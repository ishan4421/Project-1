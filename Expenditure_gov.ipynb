{
 "cells": [
  {
   "cell_type": "code",
   "execution_count": 1,
   "id": "76d7661d-a9b4-4d0f-9e4a-9dc3e1273ce5",
   "metadata": {},
   "outputs": [
    {
     "name": "stderr",
     "output_type": "stream",
     "text": [
      "C:\\Users\\dell\\AppData\\Local\\Temp\\ipykernel_14404\\4080736814.py:1: DeprecationWarning: \n",
      "Pyarrow will become a required dependency of pandas in the next major release of pandas (pandas 3.0),\n",
      "(to allow more performant data types, such as the Arrow string type, and better interoperability with other libraries)\n",
      "but was not found to be installed on your system.\n",
      "If this would cause problems for you,\n",
      "please provide us feedback at https://github.com/pandas-dev/pandas/issues/54466\n",
      "        \n",
      "  import pandas as pd\n"
     ]
    }
   ],
   "source": [
    "import pandas as pd"
   ]
  },
  {
   "cell_type": "code",
   "execution_count": 2,
   "id": "15e5f05a-f2e3-45c5-941f-97abb9fb5793",
   "metadata": {},
   "outputs": [],
   "source": [
    "import matplotlib.pyplot as plt"
   ]
  },
  {
   "cell_type": "code",
   "execution_count": 3,
   "id": "dabda3be-56fc-4c56-a046-ca9c3483566e",
   "metadata": {},
   "outputs": [],
   "source": [
    "data= pd.read_csv('railway_india.csv')"
   ]
  },
  {
   "cell_type": "code",
   "execution_count": 4,
   "id": "43d0d811-4b2a-429e-a461-dad4ec71a072",
   "metadata": {},
   "outputs": [],
   "source": [
    "import seaborn as sns"
   ]
  },
  {
   "cell_type": "code",
   "execution_count": 5,
   "id": "e735051a-54ba-43a9-b398-03d31b4235cb",
   "metadata": {},
   "outputs": [
    {
     "data": {
      "text/html": [
       "<div>\n",
       "<style scoped>\n",
       "    .dataframe tbody tr th:only-of-type {\n",
       "        vertical-align: middle;\n",
       "    }\n",
       "\n",
       "    .dataframe tbody tr th {\n",
       "        vertical-align: top;\n",
       "    }\n",
       "\n",
       "    .dataframe thead th {\n",
       "        text-align: right;\n",
       "    }\n",
       "</style>\n",
       "<table border=\"1\" class=\"dataframe\">\n",
       "  <thead>\n",
       "    <tr style=\"text-align: right;\">\n",
       "      <th></th>\n",
       "      <th>Head</th>\n",
       "      <th>2014-15</th>\n",
       "      <th>2015-16</th>\n",
       "      <th>2016-17</th>\n",
       "      <th>2017-18</th>\n",
       "      <th>2018-19</th>\n",
       "      <th>2019-20</th>\n",
       "      <th>2020-21</th>\n",
       "      <th>2021-22</th>\n",
       "      <th>2022-23</th>\n",
       "      <th>BE 23-24</th>\n",
       "      <th>2014-24</th>\n",
       "    </tr>\n",
       "  </thead>\n",
       "  <tbody>\n",
       "    <tr>\n",
       "      <th>0</th>\n",
       "      <td>Level Crossings</td>\n",
       "      <td>442.00</td>\n",
       "      <td>469.56</td>\n",
       "      <td>542.56</td>\n",
       "      <td>536.81</td>\n",
       "      <td>678.60</td>\n",
       "      <td>570.61</td>\n",
       "      <td>544.92</td>\n",
       "      <td>450.35</td>\n",
       "      <td>519.91</td>\n",
       "      <td>700.00</td>\n",
       "      <td>5455.32</td>\n",
       "    </tr>\n",
       "    <tr>\n",
       "      <th>1</th>\n",
       "      <td>ROB/RUB</td>\n",
       "      <td>1791.66</td>\n",
       "      <td>2133.02</td>\n",
       "      <td>3202.17</td>\n",
       "      <td>3175.97</td>\n",
       "      <td>3522.92</td>\n",
       "      <td>3521.74</td>\n",
       "      <td>4139.19</td>\n",
       "      <td>4225.25</td>\n",
       "      <td>4827.29</td>\n",
       "      <td>7400.00</td>\n",
       "      <td>37939.21</td>\n",
       "    </tr>\n",
       "    <tr>\n",
       "      <th>2</th>\n",
       "      <td>Track Renewals</td>\n",
       "      <td>5371.55</td>\n",
       "      <td>5586.03</td>\n",
       "      <td>6397.97</td>\n",
       "      <td>8884.16</td>\n",
       "      <td>9690.05</td>\n",
       "      <td>9390.55</td>\n",
       "      <td>13522.65</td>\n",
       "      <td>16557.87</td>\n",
       "      <td>16325.72</td>\n",
       "      <td>17296.84</td>\n",
       "      <td>109023.39</td>\n",
       "    </tr>\n",
       "    <tr>\n",
       "      <th>3</th>\n",
       "      <td>Bridge Works etc</td>\n",
       "      <td>441.09</td>\n",
       "      <td>520.02</td>\n",
       "      <td>494.75</td>\n",
       "      <td>453.90</td>\n",
       "      <td>531.63</td>\n",
       "      <td>781.50</td>\n",
       "      <td>772.40</td>\n",
       "      <td>1302.18</td>\n",
       "      <td>1050.46</td>\n",
       "      <td>1255.00</td>\n",
       "      <td>7602.93</td>\n",
       "    </tr>\n",
       "    <tr>\n",
       "      <th>4</th>\n",
       "      <td>S &amp; T Works</td>\n",
       "      <td>1005.75</td>\n",
       "      <td>893.62</td>\n",
       "      <td>966.58</td>\n",
       "      <td>1256.82</td>\n",
       "      <td>1538.44</td>\n",
       "      <td>1622.62</td>\n",
       "      <td>1908.61</td>\n",
       "      <td>2145.08</td>\n",
       "      <td>2456.12</td>\n",
       "      <td>4198.22</td>\n",
       "      <td>17991.86</td>\n",
       "    </tr>\n",
       "  </tbody>\n",
       "</table>\n",
       "</div>"
      ],
      "text/plain": [
       "               Head  2014-15  2015-16  2016-17  2017-18  2018-19  2019-20  \\\n",
       "0   Level Crossings   442.00   469.56   542.56   536.81   678.60   570.61   \n",
       "1           ROB/RUB  1791.66  2133.02  3202.17  3175.97  3522.92  3521.74   \n",
       "2    Track Renewals  5371.55  5586.03  6397.97  8884.16  9690.05  9390.55   \n",
       "3  Bridge Works etc   441.09   520.02   494.75   453.90   531.63   781.50   \n",
       "4       S & T Works  1005.75   893.62   966.58  1256.82  1538.44  1622.62   \n",
       "\n",
       "    2020-21   2021-22   2022-23  BE 23-24    2014-24  \n",
       "0    544.92    450.35    519.91    700.00    5455.32  \n",
       "1   4139.19   4225.25   4827.29   7400.00   37939.21  \n",
       "2  13522.65  16557.87  16325.72  17296.84  109023.39  \n",
       "3    772.40   1302.18   1050.46   1255.00    7602.93  \n",
       "4   1908.61   2145.08   2456.12   4198.22   17991.86  "
      ]
     },
     "execution_count": 5,
     "metadata": {},
     "output_type": "execute_result"
    }
   ],
   "source": [
    "data.head()"
   ]
  },
  {
   "cell_type": "code",
   "execution_count": 6,
   "id": "5c83a315-4bca-4d00-a9a4-1e0c23499cbd",
   "metadata": {},
   "outputs": [
    {
     "data": {
      "text/plain": [
       "(6, 12)"
      ]
     },
     "execution_count": 6,
     "metadata": {},
     "output_type": "execute_result"
    }
   ],
   "source": [
    "data.shape"
   ]
  },
  {
   "cell_type": "code",
   "execution_count": 7,
   "id": "5892b4fb-2f7e-47a6-85cb-b0e2ec32c5bb",
   "metadata": {},
   "outputs": [
    {
     "data": {
      "text/html": [
       "<div>\n",
       "<style scoped>\n",
       "    .dataframe tbody tr th:only-of-type {\n",
       "        vertical-align: middle;\n",
       "    }\n",
       "\n",
       "    .dataframe tbody tr th {\n",
       "        vertical-align: top;\n",
       "    }\n",
       "\n",
       "    .dataframe thead th {\n",
       "        text-align: right;\n",
       "    }\n",
       "</style>\n",
       "<table border=\"1\" class=\"dataframe\">\n",
       "  <thead>\n",
       "    <tr style=\"text-align: right;\">\n",
       "      <th></th>\n",
       "      <th>Head</th>\n",
       "      <th>2014-15</th>\n",
       "      <th>2015-16</th>\n",
       "      <th>2016-17</th>\n",
       "      <th>2017-18</th>\n",
       "      <th>2018-19</th>\n",
       "      <th>2019-20</th>\n",
       "      <th>2020-21</th>\n",
       "      <th>2021-22</th>\n",
       "      <th>2022-23</th>\n",
       "      <th>BE 23-24</th>\n",
       "    </tr>\n",
       "  </thead>\n",
       "  <tbody>\n",
       "    <tr>\n",
       "      <th>0</th>\n",
       "      <td>Level Crossings</td>\n",
       "      <td>442.00</td>\n",
       "      <td>469.56</td>\n",
       "      <td>542.56</td>\n",
       "      <td>536.81</td>\n",
       "      <td>678.60</td>\n",
       "      <td>570.61</td>\n",
       "      <td>544.92</td>\n",
       "      <td>450.35</td>\n",
       "      <td>519.91</td>\n",
       "      <td>700.00</td>\n",
       "    </tr>\n",
       "    <tr>\n",
       "      <th>1</th>\n",
       "      <td>ROB/RUB</td>\n",
       "      <td>1791.66</td>\n",
       "      <td>2133.02</td>\n",
       "      <td>3202.17</td>\n",
       "      <td>3175.97</td>\n",
       "      <td>3522.92</td>\n",
       "      <td>3521.74</td>\n",
       "      <td>4139.19</td>\n",
       "      <td>4225.25</td>\n",
       "      <td>4827.29</td>\n",
       "      <td>7400.00</td>\n",
       "    </tr>\n",
       "    <tr>\n",
       "      <th>2</th>\n",
       "      <td>Track Renewals</td>\n",
       "      <td>5371.55</td>\n",
       "      <td>5586.03</td>\n",
       "      <td>6397.97</td>\n",
       "      <td>8884.16</td>\n",
       "      <td>9690.05</td>\n",
       "      <td>9390.55</td>\n",
       "      <td>13522.65</td>\n",
       "      <td>16557.87</td>\n",
       "      <td>16325.72</td>\n",
       "      <td>17296.84</td>\n",
       "    </tr>\n",
       "    <tr>\n",
       "      <th>3</th>\n",
       "      <td>Bridge Works etc</td>\n",
       "      <td>441.09</td>\n",
       "      <td>520.02</td>\n",
       "      <td>494.75</td>\n",
       "      <td>453.90</td>\n",
       "      <td>531.63</td>\n",
       "      <td>781.50</td>\n",
       "      <td>772.40</td>\n",
       "      <td>1302.18</td>\n",
       "      <td>1050.46</td>\n",
       "      <td>1255.00</td>\n",
       "    </tr>\n",
       "    <tr>\n",
       "      <th>4</th>\n",
       "      <td>S &amp; T Works</td>\n",
       "      <td>1005.75</td>\n",
       "      <td>893.62</td>\n",
       "      <td>966.58</td>\n",
       "      <td>1256.82</td>\n",
       "      <td>1538.44</td>\n",
       "      <td>1622.62</td>\n",
       "      <td>1908.61</td>\n",
       "      <td>2145.08</td>\n",
       "      <td>2456.12</td>\n",
       "      <td>4198.22</td>\n",
       "    </tr>\n",
       "    <tr>\n",
       "      <th>5</th>\n",
       "      <td>Total</td>\n",
       "      <td>9052.05</td>\n",
       "      <td>9602.25</td>\n",
       "      <td>11604.03</td>\n",
       "      <td>14307.66</td>\n",
       "      <td>15961.64</td>\n",
       "      <td>15887.02</td>\n",
       "      <td>20887.77</td>\n",
       "      <td>24680.73</td>\n",
       "      <td>25179.50</td>\n",
       "      <td>30850.06</td>\n",
       "    </tr>\n",
       "  </tbody>\n",
       "</table>\n",
       "</div>"
      ],
      "text/plain": [
       "               Head  2014-15  2015-16   2016-17   2017-18   2018-19   2019-20  \\\n",
       "0   Level Crossings   442.00   469.56    542.56    536.81    678.60    570.61   \n",
       "1           ROB/RUB  1791.66  2133.02   3202.17   3175.97   3522.92   3521.74   \n",
       "2    Track Renewals  5371.55  5586.03   6397.97   8884.16   9690.05   9390.55   \n",
       "3  Bridge Works etc   441.09   520.02    494.75    453.90    531.63    781.50   \n",
       "4       S & T Works  1005.75   893.62    966.58   1256.82   1538.44   1622.62   \n",
       "5             Total  9052.05  9602.25  11604.03  14307.66  15961.64  15887.02   \n",
       "\n",
       "    2020-21   2021-22   2022-23  BE 23-24  \n",
       "0    544.92    450.35    519.91    700.00  \n",
       "1   4139.19   4225.25   4827.29   7400.00  \n",
       "2  13522.65  16557.87  16325.72  17296.84  \n",
       "3    772.40   1302.18   1050.46   1255.00  \n",
       "4   1908.61   2145.08   2456.12   4198.22  \n",
       "5  20887.77  24680.73  25179.50  30850.06  "
      ]
     },
     "execution_count": 7,
     "metadata": {},
     "output_type": "execute_result"
    }
   ],
   "source": [
    "data.drop('2014-24', axis=1)"
   ]
  },
  {
   "cell_type": "code",
   "execution_count": null,
   "id": "7d56e828-3043-4453-a172-2757432053e8",
   "metadata": {},
   "outputs": [],
   "source": []
  },
  {
   "cell_type": "code",
   "execution_count": 9,
   "id": "af6c227b-b6fe-4510-9b63-b7abef320e9a",
   "metadata": {},
   "outputs": [
    {
     "data": {
      "image/png": "[encoded data removed]",
      "text/plain": [
       "<Figure size 1200x1000 with 1 Axes>"
      ]
     },
     "metadata": {},
     "output_type": "display_data"
    }
   ],
   "source": [
    "\n",
    "\n",
    "data2= data.drop('2014-24', axis=1)\n",
    "# Plotting\n",
    "plt.figure(figsize=(12,10))\n",
    "bars = []\n",
    "bottom = [0] * len(data2)\n",
    "for i in range(1, len(data2.columns)):\n",
    "    bars.append(plt.bar(data2['Head'], data2[data2.columns[i]], bottom=bottom, label=data2.columns[i]))\n",
    "    bottom = [bottom[j] +data2.iloc[j, i] for j in range(len(data2))]\n",
    "\n",
    "plt.xlabel('Category')\n",
    "plt.ylabel('Expenditure')\n",
    "plt.title('Expenditure by Category Over the Years')\n",
    "plt.legend(title='Year')\n",
    "plt.xticks(rotation=45, ha='right')\n",
    "plt.tight_layout()\n",
    "plt.show()"
   ]
  },
  {
   "cell_type": "code",
   "execution_count": null,
   "id": "2431fec5-6f8d-4e33-adb9-e99f8fc7ecb0",
   "metadata": {},
   "outputs": [],
   "source": []
  },
  {
   "cell_type": "code",
   "execution_count": null,
   "id": "be635dbc-3ebb-46fe-8a54-a616fe6bb07c",
   "metadata": {},
   "outputs": [],
   "source": []
  }
 ],
 "metadata": {
  "kernelspec": {
   "display_name": "Python 3 (ipykernel)",
   "language": "python",
   "name": "python3"
  },
  "language_info": {
   "codemirror_mode": {
    "name": "ipython",
    "version": 3
   },
   "file_extension": ".py",
   "mimetype": "text/x-python",
   "name": "python",
   "nbconvert_exporter": "python",
   "pygments_lexer": "ipython3",
   "version": "3.12.1"
  }
 },
 "nbformat": 4,
 "nbformat_minor": 5
}
